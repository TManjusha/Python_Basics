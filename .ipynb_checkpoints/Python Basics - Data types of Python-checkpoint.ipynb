{
 "cells": [
  {
   "cell_type": "markdown",
   "id": "5226fa6b",
   "metadata": {},
   "source": [
    "### Python Place holders\n",
    "### In Python, Placeholder is a word, characters or a string of characters to hold a temporary place. The placeholder behaves as a dynamic place holder in such a way that you can pass a particular value for that placeholder."
   ]
  },
  {
   "cell_type": "code",
   "execution_count": 1,
   "id": "a34ecb8e",
   "metadata": {},
   "outputs": [
    {
     "name": "stdout",
     "output_type": "stream",
     "text": [
      "%s is the best learning website for python\n",
      "<class 'str'>\n"
     ]
    }
   ],
   "source": [
    "phrase = \"%s is the best learning website for python\"\n",
    "#here '%s' is used to store a string of our wish\n",
    "print(phrase)\n",
    "print(type(phrase))"
   ]
  },
  {
   "cell_type": "code",
   "execution_count": 2,
   "id": "e86b2fff",
   "metadata": {},
   "outputs": [
    {
     "name": "stdout",
     "output_type": "stream",
     "text": [
      "W3Schools is the best learning website for python\n"
     ]
    }
   ],
   "source": [
    "#Now let us give a value for that '%s' like here I am giving a website called 'W3Schools'\n",
    "inp_str = 'W3Schools'\n",
    "print(phrase%inp_str)"
   ]
  },
  {
   "cell_type": "code",
   "execution_count": 3,
   "id": "ee7d23fc",
   "metadata": {},
   "outputs": [
    {
     "name": "stdout",
     "output_type": "stream",
     "text": [
      "W3Schools is the Number 1 to learn python\n"
     ]
    }
   ],
   "source": [
    "Phrase1 = \"W3Schools is the Number %d to learn python\"\n",
    "print(Phrase1%1)"
   ]
  },
  {
   "cell_type": "code",
   "execution_count": 4,
   "id": "8b90b944",
   "metadata": {},
   "outputs": [
    {
     "name": "stdout",
     "output_type": "stream",
     "text": [
      "w3schools is the best learning website for python\n"
     ]
    }
   ],
   "source": [
    "#here we can directly give the string directly to the phrase\n",
    "print(phrase%'w3schools')"
   ]
  },
  {
   "cell_type": "code",
   "execution_count": 5,
   "id": "7406a0b0",
   "metadata": {},
   "outputs": [
    {
     "name": "stdout",
     "output_type": "stream",
     "text": [
      "w3schools is the number 1 website to learn python\n"
     ]
    }
   ],
   "source": [
    "#python multiple placeholder declaration\n",
    "#i.e, here we are passing 2 or more placeholders to store the strings or intergers or any other datatype\n",
    "ph = \"%s is the number %d website to learn python\"\n",
    "print(ph%('w3schools',1))"
   ]
  },
  {
   "cell_type": "markdown",
   "id": "20a83d3e",
   "metadata": {},
   "source": [
    "## Print statements"
   ]
  },
  {
   "cell_type": "code",
   "execution_count": 6,
   "id": "835fea6e",
   "metadata": {},
   "outputs": [
    {
     "name": "stdout",
     "output_type": "stream",
     "text": [
      "Hello\n",
      "\n",
      "\n",
      "World\n"
     ]
    }
   ],
   "source": [
    "# syntax : print(*objects, sep=' ', end='\\n', file=sys.stdout, flush=False)\n",
    "\n",
    "# creating new lines using print statements\n",
    "# in python by default every print statement prints the text in new line\n",
    "\n",
    "print(\"Hello\")\n",
    "print(\"\\n\")\n",
    "print(\"World\")"
   ]
  },
  {
   "cell_type": "code",
   "execution_count": 7,
   "id": "51e664a7",
   "metadata": {},
   "outputs": [
    {
     "name": "stdout",
     "output_type": "stream",
     "text": [
      "Hello\n",
      "\n",
      "\n",
      "\n",
      "\n",
      "\n",
      "\n",
      "World\n"
     ]
    }
   ],
   "source": [
    "#for multiple newlines\n",
    "print(\"Hello\")\n",
    "print(5*\"\\n\")\n",
    "print(\"World\")"
   ]
  },
  {
   "cell_type": "code",
   "execution_count": 8,
   "id": "d3466c2b",
   "metadata": {},
   "outputs": [
    {
     "name": "stdout",
     "output_type": "stream",
     "text": [
      "Hello World!!!"
     ]
    }
   ],
   "source": [
    "#using sep and end parameters\n",
    "print('Hello','World',sep=' ',end='!!!')"
   ]
  },
  {
   "cell_type": "code",
   "execution_count": 9,
   "id": "29fa5741",
   "metadata": {},
   "outputs": [
    {
     "name": "stdout",
     "output_type": "stream",
     "text": [
      "Hi Hello World!!!\n"
     ]
    }
   ],
   "source": [
    "#using string concatenation\n",
    "string1 = \"Hi \"\n",
    "string2 = \"Hello \"\n",
    "string3 = \"World\"\n",
    "string4 = \"!!!\"\n",
    "print(string1+string2+string3+string4)"
   ]
  },
  {
   "cell_type": "code",
   "execution_count": 10,
   "id": "830049ed",
   "metadata": {},
   "outputs": [
    {
     "name": "stdout",
     "output_type": "stream",
     "text": [
      "<class 'datetime.datetime'>\n",
      "<class 'str'>\n",
      "Current time is 2022-09-09 22:50:12.012060\n"
     ]
    }
   ],
   "source": [
    "#concatenating strings of different datatypes\n",
    "import datetime\n",
    "now = datetime.datetime.now()\n",
    "string1 = \"Current time is \"\n",
    "print(type(now))\n",
    "print(type(string1))\n",
    "print(string1+str(now))"
   ]
  },
  {
   "cell_type": "code",
   "execution_count": 11,
   "id": "2f38d983",
   "metadata": {},
   "outputs": [
    {
     "name": "stdout",
     "output_type": "stream",
     "text": [
      "Current time is 2022-09-09 22:50:40.233923\n"
     ]
    }
   ],
   "source": [
    "#using f strings for concatenation\n",
    "import datetime\n",
    "now = datetime.datetime.now()\n",
    "print(f'Current time is {now}')"
   ]
  },
  {
   "cell_type": "code",
   "execution_count": 12,
   "id": "ed33cead",
   "metadata": {},
   "outputs": [
    {
     "name": "stdout",
     "output_type": "stream",
     "text": [
      "Current time is 2022-09-09 22:51:16.613363\n"
     ]
    }
   ],
   "source": [
    "#by directly passing as a argument\n",
    "import datetime\n",
    "now = datetime.datetime.now()\n",
    "print('Current time is',now)"
   ]
  },
  {
   "cell_type": "code",
   "execution_count": 17,
   "id": "8d1633b1",
   "metadata": {},
   "outputs": [],
   "source": [
    "#using file parameter\n",
    "srcFile = open('python.txt', 'w')\n",
    "print('This file is about Python', file = srcFile)\n",
    "srcFile.close()"
   ]
  },
  {
   "cell_type": "code",
   "execution_count": 21,
   "id": "048254fb",
   "metadata": {},
   "outputs": [
    {
     "name": "stdout",
     "output_type": "stream",
     "text": [
      "Steve Smith 35 male\n",
      "<__main__.Person object at 0x000001F1356D86D0>\n"
     ]
    }
   ],
   "source": [
    "#printing user custom objects\n",
    "class Person:\n",
    "    def __init__(self, name, age, gender):\n",
    "        #here we are initialising the values.\n",
    "        self.name, self.age, self.gender = name, age, gender\n",
    "        print(name,age,gender)\n",
    "jdoe = Person('Steve Smith', 35,'male')\n",
    "print(jdoe)"
   ]
  },
  {
   "cell_type": "code",
   "execution_count": null,
   "id": "cb3d340d",
   "metadata": {},
   "outputs": [],
   "source": []
  }
 ],
 "metadata": {
  "kernelspec": {
   "display_name": "Python 3",
   "language": "python",
   "name": "python3"
  },
  "language_info": {
   "codemirror_mode": {
    "name": "ipython",
    "version": 3
   },
   "file_extension": ".py",
   "mimetype": "text/x-python",
   "name": "python",
   "nbconvert_exporter": "python",
   "pygments_lexer": "ipython3",
   "version": "3.8.8"
  }
 },
 "nbformat": 4,
 "nbformat_minor": 5
}
