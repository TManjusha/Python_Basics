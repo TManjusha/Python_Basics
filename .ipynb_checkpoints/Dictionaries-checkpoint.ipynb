{
 "cells": [
  {
   "cell_type": "markdown",
   "id": "7066772a",
   "metadata": {},
   "source": [
    "# Dictionaries"
   ]
  },
  {
   "cell_type": "code",
   "execution_count": 4,
   "id": "8fe433ad",
   "metadata": {},
   "outputs": [
    {
     "name": "stdout",
     "output_type": "stream",
     "text": [
      "{}\n"
     ]
    }
   ],
   "source": [
    "#creating empty dictionary\n",
    "d1 = dict()\n",
    "print(d1)"
   ]
  },
  {
   "cell_type": "code",
   "execution_count": 1,
   "id": "1ec97a26",
   "metadata": {},
   "outputs": [
    {
     "name": "stdout",
     "output_type": "stream",
     "text": [
      "<class 'dict'>\n"
     ]
    }
   ],
   "source": [
    "a = {}\n",
    "print(type(a))"
   ]
  },
  {
   "cell_type": "code",
   "execution_count": 2,
   "id": "bc863b24",
   "metadata": {},
   "outputs": [
    {
     "name": "stdout",
     "output_type": "stream",
     "text": [
      "{'a': 1, 'b': 2, 'c': 3, 'd': 4}\n"
     ]
    }
   ],
   "source": [
    "#creating dictionary with keys and values.\n",
    "#key should immutable and value can be mutable or immutable\n",
    "d1 = {\"a\":1, \"b\":2, \"c\":3, \"d\":4}\n",
    "print(d1)"
   ]
  },
  {
   "cell_type": "code",
   "execution_count": 5,
   "id": "858c67e2",
   "metadata": {},
   "outputs": [
    {
     "data": {
      "text/plain": [
       "(1, 2, 4)"
      ]
     },
     "execution_count": 5,
     "metadata": {},
     "output_type": "execute_result"
    }
   ],
   "source": [
    "#accessing can be done using dictionaries\n",
    "d1[\"a\"], d1[\"b\"], d1[\"d\"]"
   ]
  },
  {
   "cell_type": "code",
   "execution_count": 7,
   "id": "b9fa5ab3",
   "metadata": {},
   "outputs": [
    {
     "name": "stdout",
     "output_type": "stream",
     "text": [
      "items in dictionary :  dict_items([('a', 1), ('b', 2), ('c', 3), ('d', 4)])\n",
      "keys in dictionary :  dict_keys(['a', 'b', 'c', 'd'])\n",
      "values in dictionary :  dict_values([1, 2, 3, 4])\n"
     ]
    }
   ],
   "source": [
    "print(\"items in dictionary : \", d1.items())\n",
    "print(\"keys in dictionary : \", d1.keys())\n",
    "print(\"values in dictionary : \", d1.values())"
   ]
  },
  {
   "cell_type": "code",
   "execution_count": 8,
   "id": "2bfb5a63",
   "metadata": {},
   "outputs": [
    {
     "name": "stdout",
     "output_type": "stream",
     "text": [
      "{'a': 1, 'b': 2, 'c': 13, 'd': 4}\n",
      "{'a': 1, 'b': 2, 'c': 13, 'd': 4, 'e': 5}\n"
     ]
    }
   ],
   "source": [
    "#if given key not exists it will added otherwise new item will be added\n",
    "#duplicate keys are not allowed\n",
    "d1[\"c\"] = 13\n",
    "print(d1)\n",
    "d1[\"e\"] = 5\n",
    "print(d1)"
   ]
  },
  {
   "cell_type": "code",
   "execution_count": 9,
   "id": "ba7f6e4c",
   "metadata": {},
   "outputs": [
    {
     "data": {
      "text/plain": [
       "('e', 5)"
      ]
     },
     "execution_count": 9,
     "metadata": {},
     "output_type": "execute_result"
    }
   ],
   "source": [
    "#removes last inserted key-value pair\n",
    "d1.popitem()"
   ]
  },
  {
   "cell_type": "code",
   "execution_count": 10,
   "id": "e80f98db",
   "metadata": {},
   "outputs": [
    {
     "data": {
      "text/plain": [
       "{'a': 1, 'b': 2, 'c': 13, 'd': 4}"
      ]
     },
     "execution_count": 10,
     "metadata": {},
     "output_type": "execute_result"
    }
   ],
   "source": [
    "d1"
   ]
  },
  {
   "cell_type": "code",
   "execution_count": 12,
   "id": "245c1073",
   "metadata": {},
   "outputs": [
    {
     "data": {
      "text/plain": [
       "13"
      ]
     },
     "execution_count": 12,
     "metadata": {},
     "output_type": "execute_result"
    }
   ],
   "source": [
    "#removes specified key\n",
    "d1.pop(\"c\")"
   ]
  },
  {
   "cell_type": "code",
   "execution_count": 13,
   "id": "de549e23",
   "metadata": {},
   "outputs": [
    {
     "data": {
      "text/plain": [
       "{'a': 1, 'b': 2, 'd': 4}"
      ]
     },
     "execution_count": 13,
     "metadata": {},
     "output_type": "execute_result"
    }
   ],
   "source": [
    "d1"
   ]
  },
  {
   "cell_type": "code",
   "execution_count": 17,
   "id": "6426a1d7",
   "metadata": {},
   "outputs": [
    {
     "data": {
      "text/plain": [
       "4"
      ]
     },
     "execution_count": 17,
     "metadata": {},
     "output_type": "execute_result"
    }
   ],
   "source": [
    "#Returns the value of the specified key.\n",
    "#If the key does not exist: insert the key, with the specified value\n",
    "d1.setdefault(\"d\", 14)"
   ]
  },
  {
   "cell_type": "code",
   "execution_count": 18,
   "id": "ee38c54b",
   "metadata": {},
   "outputs": [
    {
     "data": {
      "text/plain": [
       "15"
      ]
     },
     "execution_count": 18,
     "metadata": {},
     "output_type": "execute_result"
    }
   ],
   "source": [
    "d1.setdefault(\"c\",15)"
   ]
  },
  {
   "cell_type": "code",
   "execution_count": 19,
   "id": "c20eefe1",
   "metadata": {},
   "outputs": [
    {
     "name": "stdout",
     "output_type": "stream",
     "text": [
      "{'a': 1, 'b': 2, 'd': 4, 'c': 15}\n"
     ]
    },
    {
     "data": {
      "text/plain": [
       "4"
      ]
     },
     "execution_count": 19,
     "metadata": {},
     "output_type": "execute_result"
    }
   ],
   "source": [
    "print(d1)\n",
    "#returns the value of specified key\n",
    "d1.get(\"d\")"
   ]
  },
  {
   "cell_type": "code",
   "execution_count": 20,
   "id": "91d76bcc",
   "metadata": {},
   "outputs": [
    {
     "data": {
      "text/plain": [
       "{'orange': None, 'apple': None, 'banana': None}"
      ]
     },
     "execution_count": 20,
     "metadata": {},
     "output_type": "execute_result"
    }
   ],
   "source": [
    "#Returns a dictionary with the specified keys and value\n",
    "keys1 = (\"orange\", \"apple\", \"banana\")\n",
    "dict.fromkeys(keys1)"
   ]
  },
  {
   "cell_type": "code",
   "execution_count": 21,
   "id": "fc50e44e",
   "metadata": {},
   "outputs": [
    {
     "data": {
      "text/plain": [
       "{'orange': 0, 'apple': 0, 'banana': 0}"
      ]
     },
     "execution_count": 21,
     "metadata": {},
     "output_type": "execute_result"
    }
   ],
   "source": [
    "keys1 = (\"orange\", \"apple\", \"banana\")\n",
    "dict.fromkeys(keys1,0)"
   ]
  },
  {
   "cell_type": "code",
   "execution_count": 22,
   "id": "bc203f5b",
   "metadata": {},
   "outputs": [
    {
     "data": {
      "text/plain": [
       "{'orange': (1, 2, 3), 'apple': (1, 2, 3), 'banana': (1, 2, 3)}"
      ]
     },
     "execution_count": 22,
     "metadata": {},
     "output_type": "execute_result"
    }
   ],
   "source": [
    "keys1 = (\"orange\", \"apple\", \"banana\")\n",
    "dict.fromkeys(keys1, (1, 2, 3))"
   ]
  },
  {
   "cell_type": "code",
   "execution_count": 23,
   "id": "d9c8ec2c",
   "metadata": {},
   "outputs": [
    {
     "data": {
      "text/plain": [
       "{'a': 1, 'b': 2, 'd': 4, 'c': 15}"
      ]
     },
     "execution_count": 23,
     "metadata": {},
     "output_type": "execute_result"
    }
   ],
   "source": [
    "#Returns a copy of the dictionary\n",
    "d2 = d1.copy()\n",
    "d2"
   ]
  },
  {
   "cell_type": "code",
   "execution_count": 24,
   "id": "1b750c37",
   "metadata": {},
   "outputs": [],
   "source": [
    "#removes all the elements from the dictionary\n",
    "d2.clear()"
   ]
  },
  {
   "cell_type": "code",
   "execution_count": 25,
   "id": "471d2a07",
   "metadata": {},
   "outputs": [
    {
     "data": {
      "text/plain": [
       "{}"
      ]
     },
     "execution_count": 25,
     "metadata": {},
     "output_type": "execute_result"
    }
   ],
   "source": [
    "d2"
   ]
  },
  {
   "cell_type": "code",
   "execution_count": null,
   "id": "b622e79b",
   "metadata": {},
   "outputs": [],
   "source": [
    "#Ordered dict in Python version 2.7 consumes more memory than normal dict. \n",
    "#This is due to the underlying Doubly Linked List implementation for keeping the order. \n",
    "#In Python 2.7 Ordered Dict is not dict subclass, it’s a specialized container from collections module.\n",
    "#Starting from Python 3.7, insertion order of Python dictionaries is guaranteed."
   ]
  },
  {
   "cell_type": "code",
   "execution_count": 29,
   "id": "38a1008f",
   "metadata": {},
   "outputs": [
    {
     "name": "stdout",
     "output_type": "stream",
     "text": [
      "{'a': 1, 'b': 2, 'd': 4, 'c': 3} dict_items([('a', 1), ('b', 2), ('d', 4), ('c', 3)])\n"
     ]
    }
   ],
   "source": [
    "dict1 = dict()\n",
    "dict1[\"a\"] = 1\n",
    "dict1[\"b\"] = 2\n",
    "dict1[\"d\"] = 4\n",
    "dict1[\"c\"] = 3\n",
    "print(dict1, dict1.items())"
   ]
  },
  {
   "cell_type": "code",
   "execution_count": 6,
   "id": "26610f88",
   "metadata": {},
   "outputs": [
    {
     "name": "stdout",
     "output_type": "stream",
     "text": [
      "OrderedDict([('a', 1), ('b', 2), ('c', 3), ('d', 4)]) odict_items([('a', 1), ('b', 2), ('c', 3), ('d', 4)])\n"
     ]
    }
   ],
   "source": [
    "from collections import OrderedDict\n",
    "dict1 = OrderedDict()\n",
    "dict1[\"a\"] = 1\n",
    "dict1[\"b\"] = 2\n",
    "dict1[\"c\"] = 3\n",
    "dict1[\"d\"] = 4\n",
    "print(dict1, dict1.items())"
   ]
  },
  {
   "cell_type": "code",
   "execution_count": 7,
   "id": "d477265f",
   "metadata": {},
   "outputs": [
    {
     "name": "stdout",
     "output_type": "stream",
     "text": [
      "0 a\n",
      "1 b\n",
      "2 c\n",
      "3 d\n"
     ]
    }
   ],
   "source": [
    "#we can use enumerate method to print direct index and values in a dictionary\n",
    "#here it will print only keys in the dictionary\n",
    "for i,j in enumerate(dict1):\n",
    "    print(i,j, sep = \" \")"
   ]
  },
  {
   "cell_type": "code",
   "execution_count": 8,
   "id": "0990a015",
   "metadata": {},
   "outputs": [
    {
     "name": "stdout",
     "output_type": "stream",
     "text": [
      "0 1\n",
      "1 2\n",
      "2 3\n",
      "3 4\n"
     ]
    }
   ],
   "source": [
    "#here it will print values of that particular key\n",
    "for i,j in enumerate(dict1):\n",
    "    print(i,dict1[j], sep = \" \")"
   ]
  },
  {
   "cell_type": "code",
   "execution_count": null,
   "id": "6fe76ea0",
   "metadata": {},
   "outputs": [],
   "source": []
  }
 ],
 "metadata": {
  "kernelspec": {
   "display_name": "Python 3",
   "language": "python",
   "name": "python3"
  },
  "language_info": {
   "codemirror_mode": {
    "name": "ipython",
    "version": 3
   },
   "file_extension": ".py",
   "mimetype": "text/x-python",
   "name": "python",
   "nbconvert_exporter": "python",
   "pygments_lexer": "ipython3",
   "version": "3.8.8"
  }
 },
 "nbformat": 4,
 "nbformat_minor": 5
}
